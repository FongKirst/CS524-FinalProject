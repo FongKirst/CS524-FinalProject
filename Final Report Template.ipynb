{
 "cells": [
  {
   "cell_type": "markdown",
   "metadata": {},
   "source": [
    "### CS/ECE/ISyE 524 &mdash; Introduction to Optimization &mdash; Fall 2018 ###\n",
    "\n",
    "# Production Planning in Manufacturing#\n",
    "\n",
    "#### Fong Kirst (fchen69@wisc.edu; 9075075516) and Kelly He (xhe228@wisc.edu; 9078291425)\n",
    "\n",
    "### Table of Contents\n",
    "\n",
    "1. [Introduction](#1.-Introduction)\n",
    "1. [Mathematical Model](#2.-Mathematical-model)\n",
    "1. [Solution](#3.-Solution)\n",
    "1. [Results and Discussion](#4.-Results-and-discussion)\n",
    "1. [Optional Subsection](#4.A.-Feel-free-to-add-subsections)\n",
    "1. [Conclusion](#5.-Conclusion)"
   ]
  },
  {
   "cell_type": "markdown",
   "metadata": {},
   "source": [
    "## 1. Introduction ##\n",
    "\n",
    "**Production planning** is essential for the management of manufacturing to produce the right number of products to satisfy customer demand over a specific time horizon and maximize profit. Our final project is aiming to match production and sourcing decisions to meet market demand subject to production capacity, workforce availability, and overtime restrictions. The objective of the problem is to maximize the profit or minimize the total cost.\n",
    "<br>\n",
    "We will solve this problem using two types of mathematical models:<br>\n",
    " 1. **Deterministic Production Planning Model**<br>\n",
    "In this approach, we will use the best guess of demand 𝑑 for a period of time, i.e. assume\n",
    "the demand is given in a time 𝑡, to model and solve the production planning problem.\n",
    " 2. **Stochastic Production Planning Model**<br>\n",
    "In this approach, the demand 𝑑 in a period of time is uncertain. However, we are given a set of probabilities associated with demand to find a solution that is feasible for all or almost all the possible data and optimizes the expected performance of the model.\n"
   ]
  },
  {
   "cell_type": "markdown",
   "metadata": {},
   "source": [
    "## 2. Mathematical model ##\n",
    "\n",
    " 1. **Deterministic Production Planning (LP & MIP)**<br>\n",
    " \n",
    "     a. **Decision variables**\n",
    "      * $x(t)$ is the regular production produced in a period time $t$\n",
    "      * $𝑦(t)$ is the inventory level at the end of each period of time $t$\n",
    "      * $𝑧(t) \\in \\{0, 1\\}$\n",
    "         * 1 if production occurs in time $t$\n",
    "         * 0 otherwise<br>\n",
    "    \n",
    "    b. **Parameters**\n",
    "      *  $f(t)$ is the workforce cost of producing in time $t$\n",
    "      *  $c(t)$ is the cost of a unit of production in time $t$\n",
    "      *  $h(t)$ is the cost of the storage in time $t$\n",
    "      *  $C$ is the capacity of manufacturing\n",
    "      *  $d(t)$ is the demand of the product in time $t$<br>\n",
    "      \n",
    "    c. **Constraints**\n",
    "      *  Capacity constraint\n",
    "      * $ x(t) \\ \\leq  \\ Cz(t), \\ \\forall t \\ \\in \\ {1, 2, ..., n}$\n",
    "      *  Nonnegativity and integer constraints\n",
    "          * $ x(t), \\ y(t)  \\ \\geq 0 \\text{ and } z(t) \\ \\in \\{0, 1\\}, \\ \\forall t \\in \\{1, 2,..., n\\}$\n",
    "      * Storage balance constraint\n",
    "          * $ y(t - 1) \\ + \\ x(t) \\ = \\ d(t) \\ + \\ y(t), \\ \\forall t \\in \\{1,2,...,n\\}$<br>\n",
    "          \n",
    "    d. **Objective**\n",
    "    <br>\n",
    "    $\\hspace{60pt} \\text{Minimize}$\n",
    "    $$\n",
    "    \\displaystyle\\sum_{t \\ = \\ 1}^n c(t)x(t) \\ + \\ \\displaystyle\\sum_{t \\ = \\ 1}^n f(t)z(t) \\ \n",
    "    + \\ \\displaystyle\\sum_{t \\ = \\ 1}^n h(t)y(t)\n",
    "    $$\n",
    "    <br><br>\n",
    " \n",
    " 2. **Stochastic Production Planning Model**<br>\n",
    " \n",
    "    a. **Decision variables**\n",
    "    * $r_1,r_2,…,r_m$ are the amounts of raw materials that requried to produce $n$ different products, where $i \\ = \\ 1, 2, ..., m$ and $r_i \\geq 0$.\n",
    "    * $q, q_2,…, q_n$ are the quantities of $n$ different products, where $q_j \\geq 0$.\n",
    "    * $d_1, d_2,…, d_n$ are the demand for product $j$, where $d_i\\geq 0$.<br>\n",
    "     \n",
    "    b. **Parameters**\n",
    "    * $ A_{ij}$, to manufacture one unit of product j requires Aij units of raw material i, where $r ≽ Aq$ and $A$ is nonnegative.\n",
    "    * $ c \\in R_{+}^m$, is the cost for raw material $r$. The total cost is $C^Tr$.\n",
    "    * $ p \\in R_{+}^n$, is the vector of product prices. The total profit is $p^Ts \\ - \\ c^Tr$.\n",
    "    * $ \\pi_1,\\pi_2,...,\\pi_k$, are the probabilities of a set of $K$ possible demand vectors $d^{(1)},...,d^{(k)}$, where $1^T\\pi = 1, \\ \\pi \\succeq 0 $.\n",
    "    * $s_j \\ = \\ min\\{q_j, \\ d_j\\}$, is the number of units of product $j$ sold, where $ s_j \\geq 0$.\n",
    "        * If $q_j \\gt d_j, \\ q_j - d_j $ is the amount of product $j$ produced but not sold. \n",
    "        * If $q_j \\lt d_j, \\ q_j - d_j $ is the amount of unmet demand.\n",
    "    * $C$ is the manufacturing capacity.<br>\n",
    "    \n",
    "    c. **Constraints**\n",
    "    * $ r \\succeq Aq$, because manufacturing one unit of product $j$ requires at least $A_{ij}$ units of\n",
    "      raw material $i$.\n",
    "    * $q \\succeq 0, \\ r\\succeq 0$. <br>\n",
    "    \n",
    "    d. **Objective**\n",
    "    * **Case I**: Choose $r$ and $q$ before knowing<br>\n",
    "         We incorporate the probabilities of demand into the model and maximize the expected profit.\n",
    "         $$\n",
    "         \\begin{align}\n",
    "         \\text{Maximize} \\qquad\n",
    "         & -c^Tr \\ + \\ \\sum_{k \\ = \\ 1}^K \\pi_kp^T min\\{q,\\ d^k\\} \\\\\n",
    "         \\text{Subject to} \\qquad\n",
    "         & r,q \\succeq 0, \\ r \\succeq Aq, \\ k \\ =1,...,K\n",
    "         \\end{align}\n",
    "         $$\n",
    "         <br><br>\n",
    "    * **Case II**: Choose $r$ ahead of time, and then $q$ after $q$ is known<br>\n",
    "    In this case we have variables $r \\ \\in \\ R_{+}^m \\ $ and $ \\ q^k \\in R_{+}^n, \\ k \\ = \\ 1, ...,K,$ where $q^k$ is the product we produce if $d^k$ turns out to be the actual product demand. <br>\n",
    "    Then, the objective is to maximize the expected profit.<br>\n",
    "    $$\n",
    "    \\begin{align}\n",
    "    \\text{Maximize} \\qquad\n",
    "    & -c^Tr  \\ + \\ \\sum_{k \\ = \\ 1}^K \\pi_kp^Tq^k \\\\\n",
    "    \\text{Subject to} \\qquad\n",
    "    & r, d^k, q^k \\succeq 0, \\ r \\succeq Aq^k, \\ k \\ = \\ 1,...K\n",
    "    \\end{align}\n",
    "    $$\n",
    "  "
   ]
  },
  {
   "cell_type": "markdown",
   "metadata": {},
   "source": [
    "## 3. Solution ##\n",
    "### I. Deterministic Production Planning"
   ]
  },
  {
   "cell_type": "code",
   "execution_count": 1,
   "metadata": {},
   "outputs": [
    {
     "data": {
      "text/plain": [
       "24"
      ]
     },
     "execution_count": 1,
     "metadata": {},
     "output_type": "execute_result"
    }
   ],
   "source": [
    "# Data\n",
    "raw = readcsv(\"dpp.csv\")\n",
    "\n",
    "# f(t) -- the workforce cost of producing in time t\n",
    "#f = [8000, 6000, 6000, 5500, 5500, 5000, 5000, 6000, 7000, 8000, 8000, 9000]\n",
    "f = raw[:, 1][:]\n",
    "\n",
    "# c(t) -- the cost of a unit of production in time t\n",
    "#c = [1200, 1700, 2300, 2500, 2300, 2000, 1800, 1700, 1700, 2000, 2400, 1800]\n",
    "c = raw[:, 2][:]\n",
    "\n",
    "# h(t) -- the cost of the storage in time t\n",
    "#h = [300, 300, 200, 180, 180, 160, 160, 160, 180, 180, 200, 300]\n",
    "h = raw[:, 3][:]\n",
    "\n",
    "# C -- the capacity of manufacturing\n",
    "#C = [700, 800, 900, 700, 700, 800, 1000, 1000, 900, 1000, 800, 800] \n",
    "C = raw[:, 4][:]\n",
    "\n",
    "# d(t) -- the demand of the product in time t\n",
    "#d = [700, 800, 600, 900, 500, 600, 800, 900, 900, 1000, 1000, 1100]\n",
    "d = raw[:, 5][:]\n",
    "\n",
    "# Production in a year, i.e. twelve months\n",
    "t = length(d)"
   ]
  },
  {
   "cell_type": "code",
   "execution_count": 2,
   "metadata": {},
   "outputs": [
    {
     "name": "stdout",
     "output_type": "stream",
     "text": [
      "The model is \u001b[94mOptimal\n",
      "\u001b[39mThe total minimum cost is \u001b[94m3.18262e8\n",
      "\u001b[39mMonth    Production    Inventory    Producing State\n",
      "1\t6000.0\t\t0.0\t\t1.0\n",
      "2\t6000.0\t\t1000.0\t\t1.0\n",
      "3\t4000.0\t\t0.0\t\t1.0\n",
      "4\t4500.0\t\t0.0\t\t1.0\n",
      "5\t4500.0\t\t0.0\t\t1.0\n",
      "6\t8000.0\t\t2000.0\t\t1.0\n",
      "7\t8000.0\t\t3000.0\t\t1.0\n",
      "8\t8000.0\t\t4000.0\t\t1.0\n",
      "9\t8000.0\t\t4000.0\t\t1.0\n",
      "10\t8000.0\t\t6000.0\t\t1.0\n",
      "11\t8000.0\t\t5000.0\t\t1.0\n",
      "12\t6000.0\t\t2000.0\t\t1.0\n",
      "13\t6000.0\t\t1000.0\t\t1.0\n",
      "14\t6000.0\t\t0.0\t\t1.0\n",
      "15\t6000.0\t\t0.0\t\t1.0\n",
      "16\t5000.0\t\t0.0\t\t1.0\n",
      "17\t4500.0\t\t0.0\t\t1.0\n",
      "18\t7000.0\t\t2500.0\t\t1.0\n",
      "19\t5000.0\t\t3000.0\t\t1.0\n",
      "20\t8000.0\t\t5000.0\t\t1.0\n",
      "21\t8000.0\t\t5000.0\t\t1.0\n",
      "22\t8000.0\t\t4000.0\t\t1.0\n",
      "23\t7000.0\t\t2000.0\t\t1.0\n",
      "24\t7000.0\t\t0.0\t\t1.0\n"
     ]
    }
   ],
   "source": [
    "# Deterministic Production Planning Model\n",
    "using JuMP, Cbc\n",
    "m = Model(solver = CbcSolver())\n",
    "\n",
    "@variable(m, x[1:t] >= 0)   # production produced in time t\n",
    "@variable(m, y[1:t] >= 0)   # the inventory level at the end of time t\n",
    "@variable(m, z[1:t], Bin)   # 1 if production occurs in time t, 0 otherwise\n",
    "@constraint(m, x .<= C.*z)  # production constraints\n",
    "@constraint(m, y[1] == 0)   # the inventory of the first month of a year is zero\n",
    "@constraint(m, x[1] == C[1])\n",
    "# storage constraint\n",
    "for i = 2:t\n",
    "    @constraint(m, y[i - 1] + x[i] == d[i] + y[i])\n",
    "end\n",
    "@expression(m, material_cost, sum(c[i].*x[i] for i = 1:t))\n",
    "@expression(m, storage_cost, sum(h[i]*y[i] for i = 1:t))\n",
    "@expression(m, labor_cost, sum(f[i]*z[i] for i = 1:t))\n",
    "@objective(m, Min, material_cost + storage_cost + labor_cost)\n",
    "\n",
    "status = solve(m)\n",
    "\n",
    "xx = getvalue(x)\n",
    "yy = getvalue(y)\n",
    "zz = getvalue(z)\n",
    "\n",
    "print(\"The model is \")\n",
    "print_with_color(:light_blue, status, \"\\n\")\n",
    "print(\"The total minimum cost is \")\n",
    "print_with_color(:light_blue, getobjectivevalue(m), \"\\n\")\n",
    "println(\"Month    Production    Inventory    Producing State\")\n",
    "for i = 1:t\n",
    "    print(i, \"\\t\", round(xx[i], 2), \"\\t\\t\", round(yy[i], 2) , \"\\t\\t\", round(zz[i], 1), \"\\n\")\n",
    "end"
   ]
  },
  {
   "cell_type": "markdown",
   "metadata": {},
   "source": [
    "### II.  Stochastic Production Planning "
   ]
  },
  {
   "cell_type": "code",
   "execution_count": null,
   "metadata": {},
   "outputs": [],
   "source": [
    "# Data\n",
    "\n",
    "A = [\n",
    "    \n",
    "    \n",
    "    \n",
    "       ]"
   ]
  },
  {
   "cell_type": "code",
   "execution_count": null,
   "metadata": {},
   "outputs": [],
   "source": [
    "# Undeterministic Production Planning Model\n",
    "using JuMP, Cbc\n",
    "m = Model(solver = CbcSolver())\n",
    "\n",
    "@variable(m, r[1:m])\n",
    "@variable(m, q[1:n])\n",
    "\n",
    "\n",
    "\n"
   ]
  },
  {
   "cell_type": "markdown",
   "metadata": {},
   "source": [
    "## 4. Results and discussion ##\n",
    "\n",
    "Here, you display and discuss the results. Show figures, plots, images, trade-off curves, or whatever else you can think of to best illustrate your results. The discussion should explain what the results mean, and how to interpret them. You should also explain the limitations of your approach/model and how sensitive your results are to the assumptions you made.\n",
    "\n",
    " Use plots (see `PyPlot` examples from class), or you can display results in a table like this:\n",
    "\n",
    "| Tables        | Are          | Cool  |\n",
    "| ------------- |:-------------| -----:|\n",
    "| col 3 is      |right-aligned |\\$1600 |\n",
    "|  colons       | align columns|  \\$12 |\n",
    "| zebra stripes |    are neat  |   \\$1 |\n",
    "\n",
    "### 4.A. Feel free to add subsections\n",
    "\n",
    "#### 4.A.a. or subsubsections"
   ]
  },
  {
   "cell_type": "markdown",
   "metadata": {},
   "source": [
    "## 5. Conclusion ##\n",
    "\n",
    "Summarize your findings and your results, and talk about at least one possible future direction; something that might be interesting to pursue as a follow-up to your project."
   ]
  }
 ],
 "metadata": {
  "kernelspec": {
   "display_name": "Julia 0.6.4",
   "language": "julia",
   "name": "julia-0.6"
  },
  "language_info": {
   "file_extension": ".jl",
   "mimetype": "application/julia",
   "name": "julia",
   "version": "0.6.4"
  }
 },
 "nbformat": 4,
 "nbformat_minor": 2
}

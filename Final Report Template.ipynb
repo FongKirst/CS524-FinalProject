{
 "cells": [
  {
   "cell_type": "markdown",
   "metadata": {},
   "source": [
    "### CS/ECE/ISyE 524 &mdash; Introduction to Optimization &mdash; Fall 2018 ###\n",
    "\n",
    "# Production Planning in Manufacturing#\n",
    "\n",
    "#### Fong Kirst (fchen69@wisc.edu; 9075075516), Kelly He (xhe228@wisc.edu; 9078291425)\n",
    "\n",
    "### Table of Contents\n",
    "\n",
    "1. [Introduction](#1.-Introduction)\n",
    "1. [Mathematical Model](#2.-Mathematical-model)\n",
    "1. [Solution](#3.-Solution)\n",
    "1. [Results and Discussion](#4.-Results-and-discussion)\n",
    "1. [Optional Subsection](#4.A.-Feel-free-to-add-subsections)\n",
    "1. [Conclusion](#5.-Conclusion)"
   ]
  },
  {
   "cell_type": "markdown",
   "metadata": {},
   "source": [
    "## 1. Introduction ##\n",
    "\n",
    "**Production planning** is essential for the management of manufacturing to produce the right number of products to satisfy customer demand over a specific time horizon and maximize profit. Our final project is aiming to match production and sourcing decisions to meet market demand subject to production capacity, workforce availability, and overtime restrictions. The objective of the problem is to maximize the profit or minimize the total cost.\n",
    "<br>\n",
    "We will solve this problem using two types of mathematical models:<br>\n",
    " 1. **Deterministic Production Planning Model**<br>\n",
    "In this approach, we will use the best guess of demand 𝑑\" for a period of time, i.e. assume\n",
    "the demand is given in a time 𝑡, to model and solve the production planning problem.\n",
    " 2. **Stochastic Production Planning Model**<br>\n",
    "In this approach, the demand 𝑑\" in a period of time is uncertain. However, we are given a set of probabilities associated with demand to find a solution that is feasible for all or almost all the possible data and optimizes the expected performance of the model.\n"
   ]
  },
  {
   "cell_type": "markdown",
   "metadata": {},
   "source": [
    "## 2. Mathematical model ##\n",
    "\n",
    " 1. **Deterministic Production Planning (LP & MIP)**<br>\n",
    " \n",
    " a. Decision variables<br>\n",
    "  * i. x(t) is the regular production produced in a period time 𝑡<br>\n",
    "  * ii. 𝑦(𝑡) is the inventory level at the end of each period of time 𝑡<br>\n",
    "  * iii. 𝑧 (𝑡) ∈ {0, 1}<br>\n",
    "     * 1 if production occurs in time 𝑡<br>\n",
    "      * 0 otherwise<br><br>\n",
    "      \n",
    " b. Parameters<br>\n",
    "  * i. 𝑓(𝑡) is the workforce cost of producing in time 𝑡<br>\n",
    "  * ii. 𝑐(𝑡) is the cost of a unit of production in time t<br>\n",
    "  * iii. ℎ(𝑡) is the cost of the storage in time t<br>\n",
    "  * iv. 𝐶 is the capacity of manufacturing<br>\n",
    "  * v. 𝑑(𝑡) is the demand of the product in time<br>\n",
    "\n",
    " c. Constraints<br>\n",
    "  * i. Capacity constraint\n",
    "      * $ x(t) \\leq Cz(t),  \\forall t \\in {1, 2,…, 𝑛}$\n",
    "  * ii. Nonnegativity and integer constraints\n",
    "      * $ x(t), y(t) \\geq 0, \\text{ and } z(t)\\in {0, 1} \\forall t \\in {1, 2,..., n}$\n",
    "  * iii. Storage balance constraint\n",
    "      * $ y(t - 1) + x(t) = d(t) + y(t) \\forall t \\in {1,2,...,n}$\n",
    "      \n",
    " d. Objective<br>\n",
    "  Minimize<br>\n",
    "   $\\displaystyle\\sum_{t=1}^n c(t)x(t) + \\displaystyle\\sum_{1}^n f(t)z(t)\n",
    "   + \\displaystyle\\sum_{1}^n h(t)y(t)$\n",
    " \n",
    " 2. Stochastic Production Planning Model<br>\n",
    " a. Decision variables\n",
    "    * i. $r_1,r_2,…,r_m\\text{ are the amounts of raw materials that             requried to produce n different products, where i = 1,2,...,m and         }r_i \\geq 0 $ \n",
    "    * ii. $q, q_2,…, q_n \\text{ are the quantities of n different               products, where } q_j \\geq 0.$\n",
    "    * iii. $d_1, d_2,…, d_n \\text{are the demand for product 𝑗, where }d_i        \\geq 0.$   \n",
    "    \n",
    " b. Parameters\n",
    "    * i. $ A_ij,A \\text{ is nonnegative}$\n",
    "    * ii. $c \\in R_{+}^m \\text{, is the cost for raw material 𝑟. The total        cost is } C^T r.$\n",
    "    * iii. $p \\in R_{+}^n, \\text{ is the vector of product prices. The           total profit is } p^Ts - c^Tr.$\n",
    "    * iv. $ \\pi_1,\\pi_2,...,\\pi_k \\text{ are the probabilities of a set of       K possible demand vectors } d^{(1)},...,d^{(k)}, \\text{ where }            1^T\\pi = 1, \\pi \\succeq 0. $\n",
    "    * v. $s_j = min{q_j,d_j}, \\text{ is the number of units of product 𝑗           sold, where } s_j \\geq 0.$\n",
    "     * $\\text{If } q_j \\gt d_j, q_j - d_j \\text{ is the amount of product        𝑗 produced but not sold.}$ \n",
    "     * $\\text{If } q_j \\lt d_j, q_j - d_j \\text{ is the amount of unmet          demand.}$\n",
    "    * vi. $\\text{C is the manufacturing capacity.}$\n",
    "    \n",
    " c. Constraints\n",
    "    * $ r \\succeq Aq,\\text{ because manufacturing one unit of product 𝑗         requires at least }A_{ij} \\text{ units of\n",
    "      raw material 𝑖.}$\n",
    "    * $q \\succeq 0, r\\succeq 0.$\n",
    "    \n",
    " d. Objective:\n",
    "    * $\\text{Case I: Choose 𝑟 and 𝑞 before knowing}$<br>\n",
    "     $\\text{We incorporate the probabilities of demand into the model and              maximize the expected profit.}$<br>\n",
    "     \n",
    "     $\\text{Maximize}$\n",
    "      * $-c^Tr + \\sum_{k=1}^K \\pi_kp^T min{(q,d^k)}$\n",
    "     $\\text{Subject to}$\n",
    "      * $ r,q \\succeq 0, r \\succeq Aq, k=1,...,K$\n",
    "      \n",
    "    * $\\text{Case II: Choose 𝑟 ahead of time, and then 𝑞 after 𝑑 is              known}$<br>\n",
    "     * $\\text{In this case we have variables }r \\in R_{+}^m \\text{ and }\n",
    "       q^k \\in R_{+}^n, k=1,...,K, \\text{where }q^k \\text{ is the\n",
    "        product we produce if}d^k \\text{ turns out to be the actual               product demand. Then, the objective\n",
    "       is to maximize the expected profit}$<br>\n",
    "     * $\\text{Maximize}$\n",
    "       $ -c^Tr + \\sum_{k=1}^K \\pi_kp^Tq^k$\n",
    "       $\\text{Subject to}$\n",
    "       $r, d^k, q^k \\succeq 0, r \\succeq Aq^k, k=1,...K$\n",
    "       \n",
    "     "
   ]
  },
  {
   "cell_type": "markdown",
   "metadata": {},
   "source": [
    "## 3. Solution ##\n",
    "\n",
    "Here, you should code up your model in Julia + JuMP and solve it. Your code should be clean, easy to read, well annotated and commented, and it should compile! You are not allowed to use other programming languages or DCP packages such as `convex.jl`. **I will be running your code**. I suggest having multiple code blocks separated by text blocks that explain the various parts of your solution. You may also solve several versions of your problem with different models/assumptions.\n",
    "\n",
    "It's fine to call external packages such as `Gurobi`, but try to minimize the use of exotic libraries."
   ]
  },
  {
   "cell_type": "code",
   "execution_count": 1,
   "metadata": {},
   "outputs": [
    {
     "name": "stdout",
     "output_type": "stream",
     "text": [
      "The total number of horses is: 10.0\n",
      "The total number of donkeys is: 0.0\n",
      "The total number of goats is: 0.0\n"
     ]
    }
   ],
   "source": [
    "using JuMP, Clp\n",
    "\n",
    "m = Model(solver = ClpSolver())\n",
    "\n",
    "things = [:horses, :donkeys, :goats]  # these are the things\n",
    "@variable(m, x[things] >= 0)          # the quantities of each of the things (can't be negative)\n",
    "@constraint(m, sum(x) <= 10)          # we can't have any more than 10 things total\n",
    "@objective(m, Max, x[:horses])        # we want to maximize the number of horses\n",
    "solve(m)\n",
    "\n",
    "for i in things\n",
    "    println(\"The total number of \", i, \" is: \", getvalue(x[i]))     # print result\n",
    "end"
   ]
  },
  {
   "cell_type": "markdown",
   "metadata": {},
   "source": [
    "## 4. Results and discussion ##\n",
    "\n",
    "Here, you display and discuss the results. Show figures, plots, images, trade-off curves, or whatever else you can think of to best illustrate your results. The discussion should explain what the results mean, and how to interpret them. You should also explain the limitations of your approach/model and how sensitive your results are to the assumptions you made.\n",
    "\n",
    " Use plots (see `PyPlot` examples from class), or you can display results in a table like this:\n",
    "\n",
    "| Tables        | Are          | Cool  |\n",
    "| ------------- |:-------------| -----:|\n",
    "| col 3 is      |right-aligned |\\$1600 |\n",
    "|  colons       | align columns|  \\$12 |\n",
    "| zebra stripes |    are neat  |   \\$1 |\n",
    "\n",
    "### 4.A. Feel free to add subsections\n",
    "\n",
    "#### 4.A.a. or subsubsections"
   ]
  },
  {
   "cell_type": "markdown",
   "metadata": {},
   "source": [
    "## 5. Conclusion ##\n",
    "\n",
    "Summarize your findings and your results, and talk about at least one possible future direction; something that might be interesting to pursue as a follow-up to your project."
   ]
  },
  {
   "cell_type": "markdown",
   "metadata": {},
   "source": []
  }
 ],
 "metadata": {
  "kernelspec": {
   "display_name": "Julia 0.6.4",
   "language": "julia",
   "name": "julia-0.6"
  },
  "language_info": {
   "file_extension": ".jl",
   "mimetype": "application/julia",
   "name": "julia",
   "version": "0.6.4"
  }
 },
 "nbformat": 4,
 "nbformat_minor": 2
}

{
 "cells": [
  {
   "cell_type": "markdown",
   "metadata": {},
   "source": [
    "### CS/ECE/ISyE 524 &mdash; Introduction to Optimization &mdash; Fall 2018 ###\n",
    "\n",
    "# Production Planning in Manufacturing#\n",
    "\n",
    "#### Fong Kirst (fchen69@wisc.edu; 9075075516) and Kelly He (xhe228@wisc.edu; 9078291425)\n",
    "\n",
    "### Table of Contents\n",
    "\n",
    "1. [Introduction](#1.-Introduction)\n",
    "1. [Mathematical Model](#2.-Mathematical-model)\n",
    "1. [Solution](#3.-Solution)\n",
    "1. [Results and Discussion](#4.-Results-and-discussion)\n",
    "1. [Optional Subsection](#4.A.-Feel-free-to-add-subsections)\n",
    "1. [Conclusion](#5.-Conclusion)"
   ]
  },
  {
   "cell_type": "markdown",
   "metadata": {},
   "source": [
    "## 1. Introduction ##\n",
    "\n",
    "**Production planning** is essential for the management of manufacturing to produce the right number of products to satisfy customer demand over a specific time horizon and maximize profit. Our final project is aiming to match production and sourcing decisions to meet market demand subject to production capacity, workforce availability, and overtime restrictions. The objective of the problem is to maximize the profit or minimize the total cost.\n",
    "<br>\n",
    "We will solve this problem using two types of mathematical models:<br>\n",
    " 1. **Deterministic Production Planning Model**<br>\n",
    "In this approach, we will use the best guess of demand 𝑑 for a period of time, i.e. assume\n",
    "the demand is given in a time 𝑡, to model and solve the production planning problem.\n",
    " 2. **Stochastic Production Planning Model**<br>\n",
    "In this approach, the demand 𝑑 in a period of time is uncertain. However, we are given a set of probabilities associated with demand to find a solution that is feasible for all or almost all the possible data and optimizes the expected performance of the model.\n"
   ]
  },
  {
   "cell_type": "markdown",
   "metadata": {},
   "source": [
    "## 2. Mathematical model ##\n",
    "\n",
    " 1. **Deterministic Production Planning (LP & MIP)**<br>\n",
    " \n",
    " a. Decision variables<br>\n",
    "  * i. x(t) is the regular production produced in a period time 𝑡<br>\n",
    "  * ii. 𝑦(𝑡) is the inventory level at the end of each period of time 𝑡<br>\n",
    "  * iii. 𝑧 (𝑡) ∈ {0, 1}<br>\n",
    "     * 1 if production occurs in time 𝑡<br>\n",
    "      * 0 otherwise<br><br>\n",
    "      \n",
    " b. Parameters<br>\n",
    "  * i. 𝑓(𝑡) is the workforce cost of producing in time 𝑡<br>\n",
    "  * ii. 𝑐(𝑡) is the cost of a unit of production in time t<br>\n",
    "  * iii. ℎ(𝑡) is the cost of the storage in time t<br>\n",
    "  * iv. 𝐶 is the capacity of manufacturing<br>\n",
    "  * v. 𝑑(𝑡) is the demand of the product in time<br>\n",
    "\n",
    " c. Constraints<br>\n",
    "  * i. Capacity constraint\n",
    "      * $ x(t) \\leq Cz(t),  \\forall t \\in {1, 2,…, 𝑛}$\n",
    "  * ii. Nonnegativity and integer constraints\n",
    "      * $ x(t), y(t) \\geq 0, and z(t)\\in {0, 1} \\forall t \\in {1, 2,…, n}$\n",
    " \n",
    " "
   ]
  },
  {
   "cell_type": "markdown",
   "metadata": {},
   "source": [
    "## 3. Solution ##\n",
    "### Case I Deterministic Production Planning"
   ]
  },
  {
   "cell_type": "code",
   "execution_count": 22,
   "metadata": {},
   "outputs": [
    {
     "data": {
      "text/plain": [
       "12"
      ]
     },
     "execution_count": 22,
     "metadata": {},
     "output_type": "execute_result"
    }
   ],
   "source": [
    "# Data\n",
    "\n",
    "# f(t) -- the workforce cost of producing in time t\n",
    "f = [8000, 6000, 6000, 5500, 5500, 5000, 5000, 6000, 7000, 8000, 8000, 9000]\n",
    "\n",
    "# c(t) -- the cost of a unit of production in time t\n",
    "c = [1200, 1700, 2300, 2500, 2300, 2000, 1800, 1700, 1700, 2000, 2400, 1800]\n",
    "\n",
    "# h(t) -- the cost of the storage in time t\n",
    "h = [300, 300, 200, 180, 180, 160, 160, 160, 180, 180, 200, 300]\n",
    "\n",
    "# C -- the capacity of manufacturing\n",
    "C = [700, 800, 900, 700, 700, 800, 1000, 1000, 900, 1000, 800, 800] \n",
    "\n",
    "# d(t) -- the demand of the product in time t\n",
    "d = [700, 800, 600, 900, 500, 600, 800, 900, 900, 1000, 1000, 1100]\n",
    "\n",
    "# Production in a year, i.e. twelve months\n",
    "t = length(d)"
   ]
  },
  {
   "cell_type": "code",
   "execution_count": 46,
   "metadata": {},
   "outputs": [
    {
     "name": "stdout",
     "output_type": "stream",
     "text": [
      "The model is \u001b[94mOptimal\n",
      "\u001b[39mThe total minimum cost is \u001b[94m1.8617e7\n",
      "\u001b[39mProduction    Inventory    Producing State\n",
      "0.0\t\t0.0\t\t0.0\n",
      "800.0\t\t0.0\t\t1.0\n",
      "900.0\t\t300.0\t\t1.0\n",
      "600.0\t\t0.0\t\t1.0\n",
      "500.0\t\t0.0\t\t1.0\n",
      "800.0\t\t200.0\t\t1.0\n",
      "1000.0\t\t400.0\t\t1.0\n",
      "1000.0\t\t500.0\t\t1.0\n",
      "900.0\t\t500.0\t\t1.0\n",
      "1000.0\t\t500.0\t\t1.0\n",
      "800.0\t\t300.0\t\t1.0\n",
      "800.0\t\t0.0\t\t1.0\n"
     ]
    }
   ],
   "source": [
    "# Deterministic Production Planning Model\n",
    "using JuMP, Cbc\n",
    "m = Model(solver = CbcSolver())\n",
    "\n",
    "@variable(m, x[1:t] >= 0)   # production produced in time t\n",
    "@variable(m, y[1:t] >= 0)   # the inventory level at the end of time t\n",
    "@variable(m, z[1:t], Bin)   # 1 if production occurs in time t, 0 otherwise\n",
    "@constraint(m, x .<= C.*z)  # production constraints\n",
    "@constraint(m, y[1] == 0)\n",
    "# storage constraint\n",
    "for i = 2:t\n",
    "    @constraint(m, y[i - 1] + x[i] == d[i] + y[i])\n",
    "end\n",
    "@expression(m, material_cost, sum(c[i]*x[i] for i = 1:t))\n",
    "@expression(m, storage_cost, sum(h[i]*y[i] for i = 1:t))\n",
    "@expression(m, labor_cost, sum(f[i]*z[i] for i = 1:t))\n",
    "@objective(m, Min, material_cost + storage_cost + labor_cost)\n",
    "\n",
    "status = solve(m)\n",
    "\n",
    "xx = getvalue(x)\n",
    "yy = getvalue(y)\n",
    "zz = getvalue(z)\n",
    "\n",
    "print(\"The model is \")\n",
    "print_with_color(:light_blue, status, \"\\n\")\n",
    "print(\"The total minimum cost is \")\n",
    "print_with_color(:light_blue, getobjectivevalue(m), \"\\n\")\n",
    "println(\"Production    Inventory    Producing State\")\n",
    "for i = 1:t\n",
    "    print(round(xx[i], 2), \"\\t\\t\", round(yy[i], 2) , \"\\t\\t\", zz[i], \"\\n\")\n",
    "end"
   ]
  },
  {
   "cell_type": "markdown",
   "metadata": {},
   "source": [
    "### Case II  Stochastic Production Planning "
   ]
  },
  {
   "cell_type": "markdown",
   "metadata": {},
   "source": [
    "## 4. Results and discussion ##\n",
    "\n",
    "Here, you display and discuss the results. Show figures, plots, images, trade-off curves, or whatever else you can think of to best illustrate your results. The discussion should explain what the results mean, and how to interpret them. You should also explain the limitations of your approach/model and how sensitive your results are to the assumptions you made.\n",
    "\n",
    " Use plots (see `PyPlot` examples from class), or you can display results in a table like this:\n",
    "\n",
    "| Tables        | Are          | Cool  |\n",
    "| ------------- |:-------------| -----:|\n",
    "| col 3 is      |right-aligned |\\$1600 |\n",
    "|  colons       | align columns|  \\$12 |\n",
    "| zebra stripes |    are neat  |   \\$1 |\n",
    "\n",
    "### 4.A. Feel free to add subsections\n",
    "\n",
    "#### 4.A.a. or subsubsections"
   ]
  },
  {
   "cell_type": "markdown",
   "metadata": {},
   "source": [
    "## 5. Conclusion ##\n",
    "\n",
    "Summarize your findings and your results, and talk about at least one possible future direction; something that might be interesting to pursue as a follow-up to your project."
   ]
  }
 ],
 "metadata": {
  "kernelspec": {
   "display_name": "Julia 0.6.4",
   "language": "julia",
   "name": "julia-0.6"
  },
  "language_info": {
   "file_extension": ".jl",
   "mimetype": "application/julia",
   "name": "julia",
   "version": "0.6.4"
  }
 },
 "nbformat": 4,
 "nbformat_minor": 2
}

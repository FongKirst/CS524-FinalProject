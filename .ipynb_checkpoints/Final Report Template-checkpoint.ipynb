{
 "cells": [
  {
   "cell_type": "markdown",
   "metadata": {},
   "source": [
    "### CS/ECE/ISyE 524 &mdash; Introduction to Optimization &mdash; Fall 2018 ###\n",
    "\n",
    "# Production Planning in Manufacturing#\n",
    "\n",
    "#### Fong Kirst (fchen69@wisc.edu; 9075075516), Kelly He (xhe228@wisc.edu; 9078291425)\n",
    "\n",
    "### Table of Contents\n",
    "\n",
    "1. [Introduction](#1.-Introduction)\n",
    "1. [Mathematical Model](#2.-Mathematical-model)\n",
    "1. [Solution](#3.-Solution)\n",
    "1. [Results and Discussion](#4.-Results-and-discussion)\n",
    "1. [Optional Subsection](#4.A.-Feel-free-to-add-subsections)\n",
    "1. [Conclusion](#5.-Conclusion)"
   ]
  },
  {
   "cell_type": "markdown",
   "metadata": {},
   "source": [
    "## 1. Introduction ##\n",
    "\n",
    "**Production planning** is essential for the management of manufacturing to produce the right number of products to satisfy customer demand over a specific time horizon and maximize profit. Our final project is aiming to match production and sourcing decisions to meet market demand subject to production capacity, workforce availability, and overtime restrictions. The objective of the problem is to maximize the profit or minimize the total cost.\n",
    "<br>\n",
    "We will solve this problem using two types of mathematical models:<br>\n",
    " 1. **Deterministic Production Planning Model**<br>\n",
    "In this approach, we will use the best guess of demand 𝑑\" for a period of time, i.e. assume\n",
    "the demand is given in a time 𝑡, to model and solve the production planning problem.\n",
    " 2. **Stochastic Production Planning Model**<br>\n",
    "In this approach, the demand 𝑑\" in a period of time is uncertain. However, we are given a set of probabilities associated with demand to find a solution that is feasible for all or almost all the possible data and optimizes the expected performance of the model.\n"
   ]
  },
  {
   "cell_type": "markdown",
   "metadata": {},
   "source": [
    "## 2. Mathematical model ##\n",
    "\n",
    " 1. **Deterministic Production Planning (LP & MIP)**\n",
    "\n"
   ]
  },
  {
   "cell_type": "markdown",
   "metadata": {},
   "source": [
    "## 3. Solution ##\n",
    "\n",
    "Here, you should code up your model in Julia + JuMP and solve it. Your code should be clean, easy to read, well annotated and commented, and it should compile! You are not allowed to use other programming languages or DCP packages such as `convex.jl`. **I will be running your code**. I suggest having multiple code blocks separated by text blocks that explain the various parts of your solution. You may also solve several versions of your problem with different models/assumptions.\n",
    "\n",
    "It's fine to call external packages such as `Gurobi`, but try to minimize the use of exotic libraries."
   ]
  },
  {
   "cell_type": "code",
   "execution_count": 1,
   "metadata": {},
   "outputs": [
    {
     "name": "stdout",
     "output_type": "stream",
     "text": [
      "The total number of horses is: 10.0\n",
      "The total number of donkeys is: 0.0\n",
      "The total number of goats is: 0.0\n"
     ]
    }
   ],
   "source": [
    "using JuMP, Clp\n",
    "\n",
    "m = Model(solver = ClpSolver())\n",
    "\n",
    "things = [:horses, :donkeys, :goats]  # these are the things\n",
    "@variable(m, x[things] >= 0)          # the quantities of each of the things (can't be negative)\n",
    "@constraint(m, sum(x) <= 10)          # we can't have any more than 10 things total\n",
    "@objective(m, Max, x[:horses])        # we want to maximize the number of horses\n",
    "solve(m)\n",
    "\n",
    "for i in things\n",
    "    println(\"The total number of \", i, \" is: \", getvalue(x[i]))     # print result\n",
    "end"
   ]
  },
  {
   "cell_type": "markdown",
   "metadata": {},
   "source": [
    "## 4. Results and discussion ##\n",
    "\n",
    "Here, you display and discuss the results. Show figures, plots, images, trade-off curves, or whatever else you can think of to best illustrate your results. The discussion should explain what the results mean, and how to interpret them. You should also explain the limitations of your approach/model and how sensitive your results are to the assumptions you made.\n",
    "\n",
    " Use plots (see `PyPlot` examples from class), or you can display results in a table like this:\n",
    "\n",
    "| Tables        | Are          | Cool  |\n",
    "| ------------- |:-------------| -----:|\n",
    "| col 3 is      |right-aligned |\\$1600 |\n",
    "|  colons       | align columns|  \\$12 |\n",
    "| zebra stripes |    are neat  |   \\$1 |\n",
    "\n",
    "### 4.A. Feel free to add subsections\n",
    "\n",
    "#### 4.A.a. or subsubsections"
   ]
  },
  {
   "cell_type": "markdown",
   "metadata": {},
   "source": [
    "## 5. Conclusion ##\n",
    "\n",
    "Summarize your findings and your results, and talk about at least one possible future direction; something that might be interesting to pursue as a follow-up to your project."
   ]
  },
  {
   "cell_type": "markdown",
   "metadata": {},
   "source": []
  }
 ],
 "metadata": {
  "kernelspec": {
   "display_name": "Julia 0.6.4",
   "language": "julia",
   "name": "julia-0.6"
  },
  "language_info": {
   "file_extension": ".jl",
   "mimetype": "application/julia",
   "name": "julia",
   "version": "0.6.4"
  }
 },
 "nbformat": 4,
 "nbformat_minor": 2
}
